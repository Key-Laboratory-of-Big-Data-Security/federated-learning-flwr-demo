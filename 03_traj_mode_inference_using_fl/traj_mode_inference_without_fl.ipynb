{
 "cells": [
  {
   "cell_type": "code",
   "execution_count": 1,
   "metadata": {},
   "outputs": [
    {
     "name": "stdout",
     "output_type": "stream",
     "text": [
      "Libraries Are Imported\n"
     ]
    }
   ],
   "source": [
    "# Import Libraries\n",
    "import os\n",
    "import glob\n",
    "import numpy as np\n",
    "import pandas as pd\n",
    "import time\n",
    "import datetime\n",
    "import pickle\n",
    "import random\n",
    "import mpu\n",
    "import math\n",
    "from collections import Counter\n",
    "\n",
    "import statistics\n",
    "from statistics import mode\n",
    "\n",
    "import tensorflow_privacy\n",
    "\n",
    "from tensorflow_privacy.privacy.analysis import compute_dp_sgd_privacy\n",
    "\n",
    "pd.options.mode.chained_assignment = None\n",
    "print(\"Libraries Are Imported\")"
   ]
  },
  {
   "cell_type": "code",
   "execution_count": 2,
   "metadata": {},
   "outputs": [],
   "source": [
    "# Define Path of Data\n",
    "path = 'PreprocessedData'\n",
    "os.chdir(path)"
   ]
  },
  {
   "cell_type": "code",
   "execution_count": 3,
   "metadata": {
    "executionInfo": {
     "elapsed": 8242,
     "status": "ok",
     "timestamp": 1625311113956,
     "user": {
      "displayName": "Amir sarrafzadeh",
      "photoUrl": "https://lh3.googleusercontent.com/a-/AOh14GgF4jrw5H5CJhyyB1ApCoS9hQnBVQeXVXHtH8_pLQ=s64",
      "userId": "14181695720010602226"
     },
     "user_tz": -120
    },
    "id": "FSh1DtYiRC8U"
   },
   "outputs": [],
   "source": [
    "# Read The Labeled Data\n",
    "DF = 'Preprocessed_Data.pickle'\n",
    "infile = open(DF, 'rb')\n",
    "df = pickle.load(infile)\n",
    "infile.close()"
   ]
  },
  {
   "cell_type": "code",
   "execution_count": 4,
   "metadata": {
    "executionInfo": {
     "elapsed": 2898,
     "status": "ok",
     "timestamp": 1625311116851,
     "user": {
      "displayName": "Amir sarrafzadeh",
      "photoUrl": "https://lh3.googleusercontent.com/a-/AOh14GgF4jrw5H5CJhyyB1ApCoS9hQnBVQeXVXHtH8_pLQ=s64",
      "userId": "14181695720010602226"
     },
     "user_tz": -120
    },
    "id": "GczNua379v7q"
   },
   "outputs": [],
   "source": [
    "# Replace Names with Characters\n",
    "\n",
    "df.replace('bike', 'p', inplace=True)\n",
    "df.replace('bus', 'b', inplace=True)\n",
    "df.replace('car', 'c', inplace=True)\n",
    "df.replace('train', 't', inplace=True)\n",
    "df.replace('walk', 'w', inplace=True)"
   ]
  },
  {
   "cell_type": "code",
   "execution_count": 5,
   "metadata": {},
   "outputs": [],
   "source": [
    "# Split All Data to Train and Test Set Randomly\n",
    "User_List = df['User'].unique().tolist()\n",
    "\n",
    "random.seed(29)\n",
    "list_one = User_List\n",
    "\n",
    "list_one, list_two = mpu.consistent_shuffle(list_one, list_one)\n",
    "train_user = list_one[:45]\n",
    "test_user = list_one[45:]\n",
    "\n",
    "Train_Data = df[df['User'].isin(train_user)]\n",
    "Test_Data = df[df['User'].isin(test_user)]\n",
    "\n",
    "Train_data = []\n",
    "for i, g in Train_Data.groupby(['Trip', 'User']):\n",
    "    Train_data.append(g)\n",
    "\n",
    "Test_data = []\n",
    "for l, m in Test_Data.groupby(['Trip', 'User']):\n",
    "    Test_data.append(m)"
   ]
  },
  {
   "cell_type": "code",
   "execution_count": 6,
   "metadata": {
    "id": "oMN4HtHR-MI2"
   },
   "outputs": [],
   "source": [
    "# Define Extra Columns and Drop them\n",
    "extra_columns = ['Latitude', 'Longitude', 'Altitude', 'Date', 'User', 'TS', 'Trip', 'Mode', 'Distance', 'DT', 'Bearing',\n",
    "                 'Cum_Distance']\n",
    "# extra_columns = ['Latitude', 'Longitude', 'Altitude', 'Date', 'User', 'TS', 'Trip', 'Mode',  'DT', 'Bearing',\n",
    "#                  'Cum_Distance']\n",
    "\n",
    "Train_Y_t = []\n",
    "for df in Train_data:\n",
    "    Train_Y_t.append(df['Mode'].values)\n",
    "    df.drop(columns=extra_columns, inplace=True)\n",
    "\n",
    "Test_Y_t = []\n",
    "for df in Test_data:\n",
    "    Test_Y_t.append(df['Mode'].values)\n",
    "    df.drop(columns=extra_columns, inplace=True)"
   ]
  },
  {
   "cell_type": "code",
   "execution_count": 7,
   "metadata": {
    "id": "ta-uapF_-MLu"
   },
   "outputs": [],
   "source": [
    "# Normalize Both Train and Test Datasets\n",
    "Train_Normalize = []\n",
    "for df in Train_data:\n",
    "    Train_Normalize.append(df.values)\n",
    "\n",
    "Test_Normalize = []\n",
    "for df in Test_data:\n",
    "    Test_Normalize.append(df.values)"
   ]
  },
  {
   "cell_type": "code",
   "execution_count": 8,
   "metadata": {
    "id": "_tMRMnwf-MPX"
   },
   "outputs": [],
   "source": [
    "# Define Maximum and Minimum Trip Sizes\n",
    "max_trip_size = 200\n",
    "min_trip_size = 60"
   ]
  },
  {
   "cell_type": "code",
   "execution_count": 9,
   "metadata": {
    "id": "_jmsjKPk-MSm"
   },
   "outputs": [],
   "source": [
    "# Break the Trips to Windows - Add Padding to Windows\n",
    "def break_trip(trip, trip_Y, max_trip_size):\n",
    "    length = max_trip_size\n",
    "    jump = length\n",
    "    split = [trip[i:i + length] for i in range(0, len(trip), jump)][:-1] + [trip[-length:]]\n",
    "    split_Y = [trip_Y[i:i + length] for i in range(0, len(trip_Y), jump)][:-1] + [trip_Y[-length:]]\n",
    "    return split, split_Y\n",
    "\n",
    "\n",
    "def padd_trip(trip, trip_Y, max_trip_size):\n",
    "    trip_padded = np.pad(trip, ((0, max_trip_size - trip.shape[0]), (0, 0)), 'constant')\n",
    "    trip_padded_Y = np.pad(trip_Y, (0, max_trip_size - trip.shape[0]), 'constant', constant_values=(0, 0))\n",
    "    return trip_padded, trip_padded_Y\n",
    "\n",
    "\n",
    "Train_X = []\n",
    "Train_Y = []\n",
    "for i, trip in enumerate(Train_Normalize):\n",
    "    size_trip = trip.shape[0]\n",
    "    if size_trip <= min_trip_size:\n",
    "        continue\n",
    "\n",
    "    if size_trip > max_trip_size:\n",
    "        trip_breaks, trip_breaks_Y = break_trip(trip, Train_Y_t[i], max_trip_size)\n",
    "        Train_X.extend(trip_breaks)\n",
    "        Train_Y.extend(trip_breaks_Y)\n",
    "\n",
    "    if size_trip <= max_trip_size and size_trip > min_trip_size:\n",
    "        trip_pad, trip_pad_Y = padd_trip(trip, Train_Y_t[i], max_trip_size)\n",
    "        Train_X.append(trip_pad)\n",
    "        Train_Y.append(Counter(Train_Y_t[i].flat).most_common(1)[0][0])\n",
    "\n",
    "Test_X = []\n",
    "Test_Y = []\n",
    "for i, trip in enumerate(Test_Normalize):\n",
    "    size_trip = trip.shape[0]\n",
    "    if size_trip <= min_trip_size:\n",
    "        continue\n",
    "\n",
    "    if size_trip > max_trip_size:\n",
    "        trip_breaks, trip_breaks_Y = break_trip(trip, Test_Y_t[i], max_trip_size)\n",
    "        Test_X.extend(trip_breaks)\n",
    "        Test_Y.extend(trip_breaks_Y)\n",
    "\n",
    "    if size_trip <= max_trip_size and size_trip > min_trip_size:\n",
    "        trip_pad, trip_pad_Y = padd_trip(trip, Test_Y_t[i], max_trip_size)\n",
    "        Test_X.append(trip_pad)\n",
    "        Test_Y.append(Counter(Test_Y_t[i].flat).most_common(1)[0][0])"
   ]
  },
  {
   "cell_type": "code",
   "execution_count": 10,
   "metadata": {
    "id": "7QRHUbAm9wFU"
   },
   "outputs": [],
   "source": [
    "# Find the mode of each Single Window\n",
    "Train_M = []\n",
    "for i in Train_Y:\n",
    "    if len(i) == 1:\n",
    "        Train_M.append(i)\n",
    "    else:\n",
    "        lst = i.tolist()\n",
    "        Train_M.append(max(set(lst), key=lst.count))\n",
    "\n",
    "Test_M = []\n",
    "for i in Test_Y:\n",
    "    if len(i) == 1:\n",
    "        Test_M.append(i)\n",
    "    else:\n",
    "        lst = i.tolist()\n",
    "        Test_M.append(max(set(lst), key=lst.count))\n",
    "\n",
    "train_Y = pd.DataFrame(Train_M, columns=['LL'])\n",
    "test_Y = pd.DataFrame(Test_M, columns=['LL'])"
   ]
  },
  {
   "cell_type": "code",
   "execution_count": 11,
   "metadata": {
    "id": "V71ORtmSP0j0"
   },
   "outputs": [],
   "source": [
    "# Replace Characters with Names in Train Dataset\n",
    "train_Y.replace('p', 'bike', inplace=True)\n",
    "train_Y.replace('b', 'bus', inplace=True)\n",
    "train_Y.replace('c', 'car', inplace=True)\n",
    "train_Y.replace('t', 'train', inplace=True)\n",
    "train_Y.replace('w', 'walk', inplace=True)"
   ]
  },
  {
   "cell_type": "code",
   "execution_count": 12,
   "metadata": {
    "id": "CSpbtnoUQIdA"
   },
   "outputs": [],
   "source": [
    "# Replace Characters with Names in Test Dataset\n",
    "test_Y.replace('p', 'bike', inplace=True)\n",
    "test_Y.replace('b', 'bus', inplace=True)\n",
    "test_Y.replace('c', 'car', inplace=True)\n",
    "test_Y.replace('t', 'train', inplace=True)\n",
    "test_Y.replace('w', 'walk', inplace=True)"
   ]
  },
  {
   "cell_type": "code",
   "execution_count": 13,
   "metadata": {
    "id": "vl79bOKLQIfF"
   },
   "outputs": [],
   "source": [
    "# Save all Data in a Dictionary\n",
    "data_dict = dict()\n",
    "data_dict['Train_X'] = Train_X\n",
    "data_dict['Train_Y'] = train_Y\n",
    "data_dict['Test_X'] = Test_X\n",
    "data_dict['Test_Y'] = test_Y"
   ]
  },
  {
   "cell_type": "code",
   "execution_count": 14,
   "metadata": {
    "id": "4IXS_wBNP0ls"
   },
   "outputs": [],
   "source": [
    "# Define Train_X, Test_X. train_Y, and test_Y\n",
    "Train_X = np.asarray(data_dict['Train_X']).astype('float32')\n",
    "train_Y = np.asarray(data_dict['Train_Y'])\n",
    "Test_X = np.asarray(data_dict['Test_X']).astype('float32')\n",
    "test_Y = np.asarray(data_dict['Test_Y'])"
   ]
  },
  {
   "cell_type": "code",
   "execution_count": 15,
   "metadata": {
    "id": "HxOwCAyJQZL8"
   },
   "outputs": [
    {
     "name": "stdout",
     "output_type": "stream",
     "text": [
      "(22348, 200, 3)\n",
      "(22348, 5)\n",
      "(4480, 200, 3)\n",
      "(4480, 5)\n"
     ]
    }
   ],
   "source": [
    "# Apply One Hot Encoding To Train_Y and Test_Y\n",
    "from sklearn.preprocessing import OneHotEncoder\n",
    "\n",
    "enc = OneHotEncoder(handle_unknown='ignore')\n",
    "Train_Y = enc.fit_transform(train_Y.reshape(-1, 1)).toarray()\n",
    "print(Train_X.shape)\n",
    "print(Train_Y.shape)\n",
    "Test_Y = enc.fit_transform(test_Y.reshape(-1, 1)).toarray()\n",
    "print(Test_X.shape)\n",
    "print(Test_Y.shape)"
   ]
  },
  {
   "cell_type": "code",
   "execution_count": 16,
   "metadata": {
    "id": "Pwwu1ZnOQZOS"
   },
   "outputs": [
    {
     "name": "stdout",
     "output_type": "stream",
     "text": [
      "3\n",
      "5\n"
     ]
    }
   ],
   "source": [
    "# Define Number of Features and Number of Classes\n",
    "num_features = Train_X.shape[-1]\n",
    "print(num_features)\n",
    "Modes = enc.categories_\n",
    "NoClass = len(Modes[0])\n",
    "print(NoClass)"
   ]
  },
  {
   "cell_type": "code",
   "execution_count": 17,
   "metadata": {
    "id": "4ErNXup6QZTj"
   },
   "outputs": [
    {
     "name": "stdout",
     "output_type": "stream",
     "text": [
      "Device mapping: no known devices.\n",
      "Device mapping: no known devices.\n",
      "<tensorflow.python.client.session.Session object at 0x2e4eaaaf0>\n"
     ]
    },
    {
     "data": {
      "text/plain": [
       "200"
      ]
     },
     "execution_count": 17,
     "metadata": {},
     "output_type": "execute_result"
    }
   ],
   "source": [
    "# Import Deep Learning Libraries\n",
    "import tensorflow as tf\n",
    "import keras\n",
    "\n",
    "tf.random.set_seed(42)\n",
    "from keras.models import Sequential\n",
    "from keras.layers import Dense, Dropout, Conv1D, Flatten, MaxPooling1D, BatchNormalization, Activation, Input\n",
    "from keras.models import Model\n",
    "from keras.optimizers import Adam, RMSprop, SGD\n",
    "from keras import regularizers\n",
    "from sklearn.model_selection import KFold\n",
    "from sklearn import metrics\n",
    "from scipy.stats import zscore\n",
    "from sklearn.metrics import classification_report, confusion_matrix, accuracy_score\n",
    "\n",
    "tf.compat.v1.Session(config=tf.compat.v1.ConfigProto(allow_soft_placement=True, log_device_placement=True))\n",
    "sess = print(tf.compat.v1.Session(config=tf.compat.v1.ConfigProto(log_device_placement=True)))\n",
    "\n",
    "start_time = time.perf_counter()\n",
    "np.random.seed(7)\n",
    "random.seed(7)\n",
    "\n",
    "trip_size = Train_X.shape[-2]\n",
    "trip_size"
   ]
  },
  {
   "cell_type": "code",
   "execution_count": 18,
   "metadata": {
    "id": "805Zcx5KxK-d"
   },
   "outputs": [],
   "source": [
    "# Define Kernel Size, Maxpooling Size, Stride\n",
    "kernel = 16\n",
    "pool = 4\n",
    "stride = 1\n",
    "Drop_Out = 0.5"
   ]
  },
  {
   "cell_type": "code",
   "execution_count": null,
   "metadata": {
    "id": "ciZH8pgTKu4J"
   },
   "outputs": [
    {
     "name": "stdout",
     "output_type": "stream",
     "text": [
      "Epoch 1/100\n",
      "350/350 [==============================] - 36s 101ms/step - loss: 1.9970 - accuracy: 0.4019 - val_loss: 1.5002 - val_accuracy: 0.4384 - lr: 0.0100\n",
      "Epoch 2/100\n",
      "350/350 [==============================] - 36s 103ms/step - loss: 1.1385 - accuracy: 0.5129 - val_loss: 0.9061 - val_accuracy: 0.6489 - lr: 0.0100\n",
      "Epoch 3/100\n",
      "350/350 [==============================] - 36s 102ms/step - loss: 1.0957 - accuracy: 0.5344 - val_loss: 0.9640 - val_accuracy: 0.6464 - lr: 0.0100\n",
      "Epoch 4/100\n",
      "350/350 [==============================] - 36s 102ms/step - loss: 1.0651 - accuracy: 0.5418 - val_loss: 1.0287 - val_accuracy: 0.4152 - lr: 0.0100\n",
      "Epoch 5/100\n",
      "350/350 [==============================] - 36s 103ms/step - loss: 1.0665 - accuracy: 0.5526 - val_loss: 0.9081 - val_accuracy: 0.6754 - lr: 0.0100\n",
      "Epoch 6/100\n",
      "350/350 [==============================] - 36s 102ms/step - loss: 1.0283 - accuracy: 0.5753 - val_loss: 0.9867 - val_accuracy: 0.4205 - lr: 0.0100\n",
      "Epoch 7/100\n",
      "350/350 [==============================] - 36s 101ms/step - loss: 1.0031 - accuracy: 0.5846 - val_loss: 0.9113 - val_accuracy: 0.7212 - lr: 0.0100\n",
      "Epoch 8/100\n",
      "350/350 [==============================] - 36s 101ms/step - loss: 0.9857 - accuracy: 0.5936 - val_loss: 1.0599 - val_accuracy: 0.6663 - lr: 0.0100\n",
      "Epoch 9/100\n",
      "350/350 [==============================] - 36s 102ms/step - loss: 0.9604 - accuracy: 0.5990 - val_loss: 0.8845 - val_accuracy: 0.7167 - lr: 0.0100\n",
      "Epoch 10/100\n",
      "350/350 [==============================] - 36s 102ms/step - loss: 0.9507 - accuracy: 0.6186 - val_loss: 0.8494 - val_accuracy: 0.7074 - lr: 0.0100\n",
      "Epoch 11/100\n",
      "350/350 [==============================] - 35s 101ms/step - loss: 0.8957 - accuracy: 0.6787 - val_loss: 0.8882 - val_accuracy: 0.6801 - lr: 0.0100\n",
      "Epoch 12/100\n",
      "350/350 [==============================] - 36s 103ms/step - loss: 0.8251 - accuracy: 0.7313 - val_loss: 0.7170 - val_accuracy: 0.8002 - lr: 0.0100\n",
      "Epoch 13/100\n",
      "350/350 [==============================] - 36s 102ms/step - loss: 0.7848 - accuracy: 0.7470 - val_loss: 0.7228 - val_accuracy: 0.7911 - lr: 0.0100\n",
      "Epoch 14/100\n",
      "350/350 [==============================] - 36s 103ms/step - loss: 0.7811 - accuracy: 0.7487 - val_loss: 1.7494 - val_accuracy: 0.6181 - lr: 0.0100\n",
      "Epoch 15/100\n",
      "350/350 [==============================] - 36s 102ms/step - loss: 0.7554 - accuracy: 0.7580 - val_loss: 0.6411 - val_accuracy: 0.8246 - lr: 0.0100\n",
      "Epoch 16/100\n",
      "350/350 [==============================] - 36s 102ms/step - loss: 0.7572 - accuracy: 0.7585 - val_loss: 0.6549 - val_accuracy: 0.8114 - lr: 0.0100\n",
      "Epoch 17/100\n",
      "350/350 [==============================] - 36s 103ms/step - loss: 0.7517 - accuracy: 0.7598 - val_loss: 0.6187 - val_accuracy: 0.8049 - lr: 0.0100\n",
      "Epoch 18/100\n",
      "350/350 [==============================] - 37s 104ms/step - loss: 0.7382 - accuracy: 0.7603 - val_loss: 0.6590 - val_accuracy: 0.8071 - lr: 0.0100\n",
      "Epoch 19/100\n",
      "350/350 [==============================] - 37s 106ms/step - loss: 0.7406 - accuracy: 0.7637 - val_loss: 0.6928 - val_accuracy: 0.7873 - lr: 0.0100\n",
      "Epoch 20/100\n",
      "350/350 [==============================] - 36s 104ms/step - loss: 0.7191 - accuracy: 0.7707 - val_loss: 0.6235 - val_accuracy: 0.8047 - lr: 0.0100\n",
      "Epoch 21/100\n",
      "350/350 [==============================] - 36s 103ms/step - loss: 0.7263 - accuracy: 0.7688 - val_loss: 0.6179 - val_accuracy: 0.8103 - lr: 0.0100\n",
      "Epoch 22/100\n",
      "350/350 [==============================] - 36s 103ms/step - loss: 0.7043 - accuracy: 0.7755 - val_loss: 0.6697 - val_accuracy: 0.7719 - lr: 0.0100\n",
      "Epoch 23/100\n",
      "350/350 [==============================] - 36s 104ms/step - loss: 0.6893 - accuracy: 0.7804 - val_loss: 0.7861 - val_accuracy: 0.7388 - lr: 0.0100\n",
      "Epoch 24/100\n",
      "350/350 [==============================] - 36s 104ms/step - loss: 0.6971 - accuracy: 0.7781 - val_loss: 0.5988 - val_accuracy: 0.8176 - lr: 0.0100\n",
      "Epoch 25/100\n",
      "350/350 [==============================] - 37s 105ms/step - loss: 0.6750 - accuracy: 0.7843 - val_loss: 0.5671 - val_accuracy: 0.8353 - lr: 0.0100\n",
      "Epoch 26/100\n",
      "350/350 [==============================] - 36s 102ms/step - loss: 0.6894 - accuracy: 0.7814 - val_loss: 0.7015 - val_accuracy: 0.7571 - lr: 0.0100\n",
      "Epoch 27/100\n",
      "350/350 [==============================] - 36s 102ms/step - loss: 0.6701 - accuracy: 0.7857 - val_loss: 0.7152 - val_accuracy: 0.7277 - lr: 0.0100\n",
      "Epoch 28/100\n",
      "350/350 [==============================] - 36s 102ms/step - loss: 0.6742 - accuracy: 0.7858 - val_loss: 0.5461 - val_accuracy: 0.8335 - lr: 0.0100\n",
      "Epoch 29/100\n",
      "350/350 [==============================] - 35s 100ms/step - loss: 0.6734 - accuracy: 0.7902 - val_loss: 0.5550 - val_accuracy: 0.8239 - lr: 0.0100\n",
      "Epoch 30/100\n",
      "350/350 [==============================] - 35s 101ms/step - loss: 0.6648 - accuracy: 0.7876 - val_loss: 0.9699 - val_accuracy: 0.7431 - lr: 0.0100\n",
      "Epoch 31/100\n",
      "350/350 [==============================] - 35s 100ms/step - loss: 0.6753 - accuracy: 0.7867 - val_loss: 0.6804 - val_accuracy: 0.7884 - lr: 0.0100\n",
      "Epoch 32/100\n",
      "350/350 [==============================] - 35s 100ms/step - loss: 0.6580 - accuracy: 0.7901 - val_loss: 0.7318 - val_accuracy: 0.7578 - lr: 0.0100\n",
      "Epoch 33/100\n",
      "350/350 [==============================] - 35s 101ms/step - loss: 0.6510 - accuracy: 0.7902 - val_loss: 0.6914 - val_accuracy: 0.8357 - lr: 0.0100\n",
      "Epoch 34/100\n",
      "350/350 [==============================] - 36s 102ms/step - loss: 0.6503 - accuracy: 0.7949 - val_loss: 0.5375 - val_accuracy: 0.8328 - lr: 0.0100\n",
      "Epoch 35/100\n",
      "350/350 [==============================] - 36s 101ms/step - loss: 0.6491 - accuracy: 0.7950 - val_loss: 0.6893 - val_accuracy: 0.7875 - lr: 0.0100\n",
      "Epoch 36/100\n",
      "350/350 [==============================] - 36s 103ms/step - loss: 0.6384 - accuracy: 0.7998 - val_loss: 0.4958 - val_accuracy: 0.8504 - lr: 0.0100\n",
      "Epoch 37/100\n",
      "350/350 [==============================] - 35s 101ms/step - loss: 0.6349 - accuracy: 0.8016 - val_loss: 0.5333 - val_accuracy: 0.8417 - lr: 0.0100\n",
      "Epoch 38/100\n",
      "350/350 [==============================] - 35s 101ms/step - loss: 0.6246 - accuracy: 0.8023 - val_loss: 0.5875 - val_accuracy: 0.8062 - lr: 0.0100\n",
      "Epoch 39/100\n",
      "350/350 [==============================] - 35s 100ms/step - loss: 0.6428 - accuracy: 0.7971 - val_loss: 0.5241 - val_accuracy: 0.8431 - lr: 0.0100\n",
      "Epoch 40/100\n",
      "350/350 [==============================] - 35s 101ms/step - loss: 0.6338 - accuracy: 0.8035 - val_loss: 0.5287 - val_accuracy: 0.8473 - lr: 0.0100\n",
      "Epoch 41/100\n",
      "350/350 [==============================] - 35s 101ms/step - loss: 0.6228 - accuracy: 0.8044 - val_loss: 0.5754 - val_accuracy: 0.8313 - lr: 0.0100\n",
      "Epoch 42/100\n",
      "350/350 [==============================] - 35s 100ms/step - loss: 0.6097 - accuracy: 0.8110 - val_loss: 0.5129 - val_accuracy: 0.8382 - lr: 0.0100\n",
      "Epoch 43/100\n",
      "350/350 [==============================] - 34s 98ms/step - loss: 0.6198 - accuracy: 0.8057 - val_loss: 0.6473 - val_accuracy: 0.7775 - lr: 0.0100\n",
      "Epoch 44/100\n",
      "350/350 [==============================] - 35s 99ms/step - loss: 0.6123 - accuracy: 0.8101 - val_loss: 0.5220 - val_accuracy: 0.8496 - lr: 0.0100\n",
      "Epoch 45/100\n",
      "350/350 [==============================] - 35s 100ms/step - loss: 0.6007 - accuracy: 0.8139 - val_loss: 0.7078 - val_accuracy: 0.7917 - lr: 0.0100\n",
      "Epoch 46/100\n",
      "350/350 [==============================] - 35s 101ms/step - loss: 0.6165 - accuracy: 0.8067 - val_loss: 0.5787 - val_accuracy: 0.8230 - lr: 0.0100\n",
      "Epoch 47/100\n",
      "350/350 [==============================] - 36s 101ms/step - loss: 0.6053 - accuracy: 0.8128 - val_loss: 0.5817 - val_accuracy: 0.8212 - lr: 0.0100\n",
      "Epoch 48/100\n",
      "350/350 [==============================] - 35s 101ms/step - loss: 0.6116 - accuracy: 0.8084 - val_loss: 0.5273 - val_accuracy: 0.8449 - lr: 0.0100\n",
      "Epoch 49/100\n",
      "350/350 [==============================] - 35s 101ms/step - loss: 0.5966 - accuracy: 0.8141 - val_loss: 0.5693 - val_accuracy: 0.8301 - lr: 0.0100\n",
      "Epoch 50/100\n",
      "350/350 [==============================] - 35s 101ms/step - loss: 0.6078 - accuracy: 0.8131 - val_loss: 0.5269 - val_accuracy: 0.8422 - lr: 0.0100\n",
      "Epoch 51/100\n",
      "350/350 [==============================] - 35s 101ms/step - loss: 0.6113 - accuracy: 0.8123 - val_loss: 0.5413 - val_accuracy: 0.8297 - lr: 0.0100\n",
      "Epoch 52/100\n",
      "350/350 [==============================] - 35s 100ms/step - loss: 0.6111 - accuracy: 0.8120 - val_loss: 0.6240 - val_accuracy: 0.8038 - lr: 0.0100\n",
      "Epoch 53/100\n",
      "350/350 [==============================] - 35s 99ms/step - loss: 0.6009 - accuracy: 0.8151 - val_loss: 0.5347 - val_accuracy: 0.8406 - lr: 0.0100\n",
      "Epoch 54/100\n",
      "350/350 [==============================] - 35s 101ms/step - loss: 0.5963 - accuracy: 0.8173 - val_loss: 0.5116 - val_accuracy: 0.8455 - lr: 0.0100\n",
      "Epoch 55/100\n",
      "350/350 [==============================] - 35s 99ms/step - loss: 0.6076 - accuracy: 0.8114 - val_loss: 0.6979 - val_accuracy: 0.7953 - lr: 0.0100\n",
      "Epoch 56/100\n",
      "350/350 [==============================] - 35s 101ms/step - loss: 0.6067 - accuracy: 0.8101 - val_loss: 0.7274 - val_accuracy: 0.7658 - lr: 0.0100\n",
      "Epoch 57/100\n",
      "350/350 [==============================] - 35s 99ms/step - loss: 0.6053 - accuracy: 0.8156 - val_loss: 0.4900 - val_accuracy: 0.8484 - lr: 0.0100\n",
      "Epoch 58/100\n",
      "350/350 [==============================] - 35s 99ms/step - loss: 0.6102 - accuracy: 0.8133 - val_loss: 0.5104 - val_accuracy: 0.8612 - lr: 0.0100\n",
      "Epoch 59/100\n",
      "350/350 [==============================] - 35s 100ms/step - loss: 0.6002 - accuracy: 0.8173 - val_loss: 0.5893 - val_accuracy: 0.8156 - lr: 0.0100\n",
      "Epoch 60/100\n",
      "350/350 [==============================] - 35s 101ms/step - loss: 0.6072 - accuracy: 0.8134 - val_loss: 0.5657 - val_accuracy: 0.8170 - lr: 0.0100\n",
      "Epoch 61/100\n",
      "350/350 [==============================] - 35s 99ms/step - loss: 0.6085 - accuracy: 0.8113 - val_loss: 0.7383 - val_accuracy: 0.8078 - lr: 0.0100\n",
      "Epoch 62/100\n",
      "350/350 [==============================] - 35s 100ms/step - loss: 0.5934 - accuracy: 0.8191 - val_loss: 0.5154 - val_accuracy: 0.8435 - lr: 0.0100\n",
      "Epoch 63/100\n",
      "350/350 [==============================] - 35s 101ms/step - loss: 0.5892 - accuracy: 0.8178 - val_loss: 0.5921 - val_accuracy: 0.8194 - lr: 0.0100\n",
      "Epoch 64/100\n",
      "350/350 [==============================] - 35s 101ms/step - loss: 0.5928 - accuracy: 0.8200 - val_loss: 0.5701 - val_accuracy: 0.8283 - lr: 0.0100\n",
      "Epoch 65/100\n",
      "350/350 [==============================] - 35s 101ms/step - loss: 0.6127 - accuracy: 0.8090 - val_loss: 0.6376 - val_accuracy: 0.8009 - lr: 0.0100\n",
      "Epoch 66/100\n",
      "350/350 [==============================] - 35s 99ms/step - loss: 0.6014 - accuracy: 0.8132 - val_loss: 0.5226 - val_accuracy: 0.8453 - lr: 0.0100\n",
      "Epoch 67/100\n",
      "350/350 [==============================] - 35s 100ms/step - loss: 0.5839 - accuracy: 0.8181 - val_loss: 0.5023 - val_accuracy: 0.8458 - lr: 0.0100\n",
      "Epoch 68/100\n",
      "350/350 [==============================] - 35s 100ms/step - loss: 0.5826 - accuracy: 0.8221 - val_loss: 0.5228 - val_accuracy: 0.8458 - lr: 0.0100\n",
      "Epoch 69/100\n",
      "350/350 [==============================] - 35s 100ms/step - loss: 0.5840 - accuracy: 0.8201 - val_loss: 0.6541 - val_accuracy: 0.8047 - lr: 0.0100\n",
      "Epoch 70/100\n",
      "350/350 [==============================] - 35s 99ms/step - loss: 0.5791 - accuracy: 0.8230 - val_loss: 0.6678 - val_accuracy: 0.7893 - lr: 0.0100\n",
      "Epoch 71/100\n",
      "350/350 [==============================] - 35s 100ms/step - loss: 0.5726 - accuracy: 0.8238 - val_loss: 0.4818 - val_accuracy: 0.8583 - lr: 0.0100\n",
      "Epoch 72/100\n",
      "350/350 [==============================] - 35s 100ms/step - loss: 0.5728 - accuracy: 0.8241 - val_loss: 0.5601 - val_accuracy: 0.8373 - lr: 0.0100\n",
      "Epoch 73/100\n",
      "350/350 [==============================] - 35s 101ms/step - loss: 0.5803 - accuracy: 0.8239 - val_loss: 0.5373 - val_accuracy: 0.8453 - lr: 0.0100\n",
      "Epoch 74/100\n",
      "350/350 [==============================] - 36s 102ms/step - loss: 0.5908 - accuracy: 0.8200 - val_loss: 0.4565 - val_accuracy: 0.8641 - lr: 0.0100\n",
      "Epoch 75/100\n",
      "350/350 [==============================] - 35s 100ms/step - loss: 0.5793 - accuracy: 0.8252 - val_loss: 0.5558 - val_accuracy: 0.8395 - lr: 0.0100\n",
      "Epoch 76/100\n",
      "350/350 [==============================] - 35s 101ms/step - loss: 0.5826 - accuracy: 0.8227 - val_loss: 0.5226 - val_accuracy: 0.8496 - lr: 0.0100\n",
      "Epoch 77/100\n",
      "350/350 [==============================] - 35s 101ms/step - loss: 0.5631 - accuracy: 0.8298 - val_loss: 0.5601 - val_accuracy: 0.8223 - lr: 0.0100\n",
      "Epoch 78/100\n",
      "350/350 [==============================] - 35s 101ms/step - loss: 0.5728 - accuracy: 0.8248 - val_loss: 0.8635 - val_accuracy: 0.7004 - lr: 0.0100\n",
      "Epoch 79/100\n",
      "350/350 [==============================] - 36s 102ms/step - loss: 0.5658 - accuracy: 0.8245 - val_loss: 0.5668 - val_accuracy: 0.8279 - lr: 0.0100\n",
      "Epoch 80/100\n",
      "350/350 [==============================] - 35s 99ms/step - loss: 0.5676 - accuracy: 0.8268 - val_loss: 0.4897 - val_accuracy: 0.8554 - lr: 0.0100\n",
      "Epoch 81/100\n",
      "350/350 [==============================] - 35s 100ms/step - loss: 0.5663 - accuracy: 0.8274 - val_loss: 0.4732 - val_accuracy: 0.8565 - lr: 0.0100\n",
      "Epoch 82/100\n",
      "350/350 [==============================] - 36s 101ms/step - loss: 0.5669 - accuracy: 0.8254 - val_loss: 0.4721 - val_accuracy: 0.8616 - lr: 0.0100\n",
      "Epoch 83/100\n",
      "350/350 [==============================] - 35s 101ms/step - loss: 0.5691 - accuracy: 0.8267 - val_loss: 0.5789 - val_accuracy: 0.8326 - lr: 0.0100\n",
      "Epoch 84/100\n",
      "350/350 [==============================] - 35s 100ms/step - loss: 0.5787 - accuracy: 0.8256 - val_loss: 0.5074 - val_accuracy: 0.8455 - lr: 0.0100\n",
      "Epoch 85/100\n",
      "350/350 [==============================] - 35s 101ms/step - loss: 0.5618 - accuracy: 0.8292 - val_loss: 0.5733 - val_accuracy: 0.8366 - lr: 0.0100\n",
      "Epoch 86/100\n",
      "350/350 [==============================] - 35s 101ms/step - loss: 0.5753 - accuracy: 0.8286 - val_loss: 0.9706 - val_accuracy: 0.6953 - lr: 0.0100\n",
      "Epoch 87/100\n",
      "350/350 [==============================] - 35s 99ms/step - loss: 0.5823 - accuracy: 0.8263 - val_loss: 0.5072 - val_accuracy: 0.8594 - lr: 0.0100\n",
      "Epoch 88/100\n",
      "350/350 [==============================] - 35s 101ms/step - loss: 0.5883 - accuracy: 0.8232 - val_loss: 0.5227 - val_accuracy: 0.8366 - lr: 0.0100\n",
      "Epoch 89/100\n",
      "350/350 [==============================] - 35s 100ms/step - loss: 0.5926 - accuracy: 0.8225 - val_loss: 0.6031 - val_accuracy: 0.8257 - lr: 0.0100\n",
      "Epoch 90/100\n",
      "350/350 [==============================] - 35s 100ms/step - loss: 0.5859 - accuracy: 0.8255 - val_loss: 0.5100 - val_accuracy: 0.8375 - lr: 0.0100\n",
      "Epoch 91/100\n",
      "350/350 [==============================] - 35s 101ms/step - loss: 0.6373 - accuracy: 0.8062 - val_loss: 0.5144 - val_accuracy: 0.8491 - lr: 0.0100\n",
      "Epoch 92/100\n",
      "350/350 [==============================] - 35s 100ms/step - loss: 0.6066 - accuracy: 0.8101 - val_loss: 0.5124 - val_accuracy: 0.8520 - lr: 0.0100\n",
      "Epoch 93/100\n",
      "350/350 [==============================] - 36s 102ms/step - loss: 0.6041 - accuracy: 0.8106 - val_loss: 0.5072 - val_accuracy: 0.8451 - lr: 0.0100\n",
      "Epoch 94/100\n",
      "350/350 [==============================] - 35s 100ms/step - loss: 0.6040 - accuracy: 0.8124 - val_loss: 0.5245 - val_accuracy: 0.8359 - lr: 0.0100\n",
      "Epoch 95/100\n",
      "350/350 [==============================] - 35s 100ms/step - loss: 0.6103 - accuracy: 0.8104 - val_loss: 0.5573 - val_accuracy: 0.8313 - lr: 0.0100\n",
      "Epoch 96/100\n",
      "350/350 [==============================] - 35s 101ms/step - loss: 0.5956 - accuracy: 0.8130 - val_loss: 0.5895 - val_accuracy: 0.8170 - lr: 0.0100\n",
      "Epoch 97/100\n",
      " 40/350 [==>...........................] - ETA: 29s - loss: 0.6378 - accuracy: 0.8035"
     ]
    }
   ],
   "source": [
    "# Structure of Model and Compile\n",
    "model = Sequential()\n",
    "model.add(Conv1D(64, kernel, strides=stride, padding='same', dilation_rate=1, input_shape=(trip_size, num_features)))\n",
    "model.add(Activation(\"relu\"))\n",
    "model.add(Conv1D(64, kernel, strides=stride, padding='same', dilation_rate=1))\n",
    "model.add(BatchNormalization())\n",
    "model.add(Activation(\"relu\"))\n",
    "model.add(MaxPooling1D(pool_size=pool))\n",
    "\n",
    "model.add(Dropout(Drop_Out))\n",
    "\n",
    "model.add(Conv1D(128, kernel, strides=stride, padding='same', dilation_rate=1))\n",
    "model.add(Activation(\"relu\"))\n",
    "model.add(Conv1D(128, kernel, strides=stride, padding='same', dilation_rate=1))\n",
    "model.add(BatchNormalization())\n",
    "model.add(Activation(\"relu\"))\n",
    "model.add(MaxPooling1D(pool_size=pool))\n",
    "\n",
    "model.add(Dropout(Drop_Out))\n",
    "\n",
    "model.add(Conv1D(256, kernel, strides=stride, padding='same', dilation_rate=1))\n",
    "model.add(Activation(\"relu\"))\n",
    "model.add(Conv1D(256, kernel, strides=stride, padding='same', dilation_rate=1))\n",
    "model.add(BatchNormalization())\n",
    "model.add(Activation(\"relu\"))\n",
    "model.add(MaxPooling1D(pool_size=pool))\n",
    "\n",
    "model.add(Flatten())\n",
    "\n",
    "model.add(Dropout(Drop_Out))\n",
    "\n",
    "model.add(Dense(2048))\n",
    "model.add(Activation(\"relu\"))\n",
    "\n",
    "model.add(Dropout(Drop_Out))\n",
    "\n",
    "model.add(Dense(1024))\n",
    "model.add(Activation(\"relu\"))\n",
    "\n",
    "model.add(Dense(NoClass, activation='softmax'))\n",
    "\n",
    "EPOCHS = 100\n",
    "\n",
    "\n",
    "def scheduler(epoch, lr):\n",
    "    if epoch % EPOCHS == 0 and epoch != 0:\n",
    "        print(\"[INFO] lr is  ... \", lr / 10)\n",
    "        return lr / 10\n",
    "    else:\n",
    "        return lr\n",
    "\n",
    "l2_norm_clip = 1.5\n",
    "noise_multiplier = 1.3\n",
    "num_microbatches = 128\n",
    "\n",
    "lr = 0.01\n",
    "batch_size = 64\n",
    "epochs = 100\n",
    "\n",
    "# if batch_size % num_microbatches != 0:\n",
    "#     raise ValueError('Batch size should be an integer multiple of the number of microbatches')\n",
    "\n",
    "# optimizer = tensorflow_privacy.DPKerasSGDOptimizer(\n",
    "#     l2_norm_clip=l2_norm_clip,\n",
    "#     noise_multiplier=noise_multiplier,\n",
    "#     num_microbatches=num_microbatches,\n",
    "#     lr=lr)\n",
    "\n",
    "optimizer = Adam(lr=lr, beta_1=0.9, beta_2=0.999, epsilon=1e-08, decay=0.0)\n",
    "# optimizer = RMSprop(learning_rate=0.01)\n",
    "# optimizer = SGD(lr=0.0001, momentum=0.9, decay=1e-4, nesterov=True)\n",
    "\n",
    "callback = tf.keras.callbacks.LearningRateScheduler(scheduler)\n",
    "csv_logger = tf.keras.callbacks.CSVLogger('../output/loss_history_q03.csv')\n",
    "\n",
    "loss = tf.keras.losses.CategoricalCrossentropy(\n",
    "     reduction=tf.losses.Reduction.NONE)\n",
    "\n",
    "model.compile(optimizer=optimizer, loss=loss, metrics=['accuracy'])\n",
    "\n",
    "hist = model.fit(Train_X, Train_Y, epochs=epochs, batch_size=batch_size, validation_data=(Test_X, Test_Y),\n",
    "                 callbacks=[callback, csv_logger])"
   ]
  },
  {
   "cell_type": "code",
   "execution_count": 44,
   "metadata": {},
   "outputs": [],
   "source": [
    "# Save history\n",
    "#   history包含以下几个属性：\n",
    "# 训练集loss： loss\n",
    "# 测试集loss： val_loss\n",
    "# 训练集准确率： acc\n",
    "# 测试集准确率： val_acc\n",
    "train_loss = hist.history['loss']\n",
    "test_loss = hist.history['val_loss']\n",
    "train_acc = hist.history['accuracy']\n",
    "test_acc = hist.history['val_accuracy']\n",
    "# print('loss:', loss)\n",
    "# print('val_loss:', val_loss)"
   ]
  },
  {
   "cell_type": "code",
   "execution_count": 45,
   "metadata": {
    "id": "J7qblXbvQZa-"
   },
   "outputs": [
    {
     "name": "stdout",
     "output_type": "stream",
     "text": [
      "Model: \"sequential_2\"\n",
      "_________________________________________________________________\n",
      " Layer (type)                Output Shape              Param #   \n",
      "=================================================================\n",
      " conv1d_12 (Conv1D)          (None, 200, 64)           3136      \n",
      "                                                                 \n",
      " activation_16 (Activation)  (None, 200, 64)           0         \n",
      "                                                                 \n",
      " conv1d_13 (Conv1D)          (None, 200, 64)           65600     \n",
      "                                                                 \n",
      " batch_normalization_6 (Batc  (None, 200, 64)          256       \n",
      " hNormalization)                                                 \n",
      "                                                                 \n",
      " activation_17 (Activation)  (None, 200, 64)           0         \n",
      "                                                                 \n",
      " max_pooling1d_6 (MaxPooling  (None, 50, 64)           0         \n",
      " 1D)                                                             \n",
      "                                                                 \n",
      " dropout_8 (Dropout)         (None, 50, 64)            0         \n",
      "                                                                 \n",
      " conv1d_14 (Conv1D)          (None, 50, 128)           131200    \n",
      "                                                                 \n",
      " activation_18 (Activation)  (None, 50, 128)           0         \n",
      "                                                                 \n",
      " conv1d_15 (Conv1D)          (None, 50, 128)           262272    \n",
      "                                                                 \n",
      " batch_normalization_7 (Batc  (None, 50, 128)          512       \n",
      " hNormalization)                                                 \n",
      "                                                                 \n",
      " activation_19 (Activation)  (None, 50, 128)           0         \n",
      "                                                                 \n",
      " max_pooling1d_7 (MaxPooling  (None, 12, 128)          0         \n",
      " 1D)                                                             \n",
      "                                                                 \n",
      " dropout_9 (Dropout)         (None, 12, 128)           0         \n",
      "                                                                 \n",
      " conv1d_16 (Conv1D)          (None, 12, 256)           524544    \n",
      "                                                                 \n",
      " activation_20 (Activation)  (None, 12, 256)           0         \n",
      "                                                                 \n",
      " conv1d_17 (Conv1D)          (None, 12, 256)           1048832   \n",
      "                                                                 \n",
      " batch_normalization_8 (Batc  (None, 12, 256)          1024      \n",
      " hNormalization)                                                 \n",
      "                                                                 \n",
      " activation_21 (Activation)  (None, 12, 256)           0         \n",
      "                                                                 \n",
      " max_pooling1d_8 (MaxPooling  (None, 3, 256)           0         \n",
      " 1D)                                                             \n",
      "                                                                 \n",
      " flatten_2 (Flatten)         (None, 768)               0         \n",
      "                                                                 \n",
      " dropout_10 (Dropout)        (None, 768)               0         \n",
      "                                                                 \n",
      " dense_6 (Dense)             (None, 2048)              1574912   \n",
      "                                                                 \n",
      " activation_22 (Activation)  (None, 2048)              0         \n",
      "                                                                 \n",
      " dropout_11 (Dropout)        (None, 2048)              0         \n",
      "                                                                 \n",
      " dense_7 (Dense)             (None, 1024)              2098176   \n",
      "                                                                 \n",
      " activation_23 (Activation)  (None, 1024)              0         \n",
      "                                                                 \n",
      " dense_8 (Dense)             (None, 5)                 5125      \n",
      "                                                                 \n",
      "=================================================================\n",
      "Total params: 5,715,589\n",
      "Trainable params: 5,714,693\n",
      "Non-trainable params: 896\n",
      "_________________________________________________________________\n"
     ]
    }
   ],
   "source": [
    "# Model Summary\n",
    "model.summary()"
   ]
  },
  {
   "cell_type": "code",
   "execution_count": 46,
   "metadata": {},
   "outputs": [],
   "source": [
    "# Prediction of Model train\n",
    "# pred_Y_train = model.predict(Train_X)\n",
    "# pred_Y_N_train = np.argmax(pred_Y_train, axis=1)\n",
    "# Pred_Y_train = enc.fit_transform(pred_Y_N_train.reshape(-1, 1)).toarray()\n",
    "# Pred_Y_N = enc.inverse_transform(Pred_Y_train)\n",
    "# Test_Y_N = enc.inverse_transform(Train_X)\n",
    "# print(confusion_matrix(Test_Y_N, Pred_Y_N))\n",
    "# print(classification_report(Test_Y_N, Pred_Y_N))\n",
    "# print(accuracy_score(Test_Y_N, Pred_Y_N))"
   ]
  },
  {
   "cell_type": "code",
   "execution_count": 47,
   "metadata": {
    "id": "o8EYRdL5Qqzn"
   },
   "outputs": [
    {
     "name": "stdout",
     "output_type": "stream",
     "text": [
      "140/140 [==============================] - 2s 14ms/step\n"
     ]
    }
   ],
   "source": [
    "# Prediction of Model\n",
    "pred_Y = model.predict(Test_X)\n",
    "pred_Y_N = np.argmax(pred_Y, axis=1)\n",
    "Pred_Y = enc.fit_transform(pred_Y_N.reshape(-1, 1)).toarray()"
   ]
  },
  {
   "cell_type": "code",
   "execution_count": 48,
   "metadata": {
    "id": "KDdUnweBQsGT"
   },
   "outputs": [],
   "source": [
    "# Apply One Hot Encoding Transform\n",
    "Pred_Y_N = enc.inverse_transform(Pred_Y)\n",
    "Test_Y_N = enc.inverse_transform(Test_Y)"
   ]
  },
  {
   "cell_type": "code",
   "execution_count": 49,
   "metadata": {},
   "outputs": [],
   "source": [
    "Pred_Y_N[Pred_Y_N==4]=6\n",
    "Pred_Y_N[Pred_Y_N==0]=4\n",
    "Pred_Y_N[Pred_Y_N==6]=0\n",
    "\n",
    "Test_Y_N[Test_Y_N==4]=6\n",
    "Test_Y_N[Test_Y_N==0]=4\n",
    "Test_Y_N[Test_Y_N==6]=0"
   ]
  },
  {
   "cell_type": "code",
   "execution_count": 50,
   "metadata": {
    "id": "yR7_zj_OQq2r"
   },
   "outputs": [
    {
     "name": "stdout",
     "output_type": "stream",
     "text": [
      "[[1456  179   62   90   33]\n",
      " [  73  803  211  126    4]\n",
      " [  11   58  251  112    1]\n",
      " [   4    0    2  555    0]\n",
      " [   8    5    5   10  421]]\n",
      "              precision    recall  f1-score   support\n",
      "\n",
      "           0       0.94      0.80      0.86      1820\n",
      "           1       0.77      0.66      0.71      1217\n",
      "           2       0.47      0.58      0.52       433\n",
      "           3       0.62      0.99      0.76       561\n",
      "           4       0.92      0.94      0.93       449\n",
      "\n",
      "    accuracy                           0.78      4480\n",
      "   macro avg       0.74      0.79      0.76      4480\n",
      "weighted avg       0.81      0.78      0.78      4480\n",
      "\n",
      "0.778125\n"
     ]
    }
   ],
   "source": [
    "print(confusion_matrix(Test_Y_N, Pred_Y_N))\n",
    "print(classification_report(Test_Y_N, Pred_Y_N))\n",
    "print(accuracy_score(Test_Y_N, Pred_Y_N))"
   ]
  },
  {
   "cell_type": "code",
   "execution_count": 99,
   "metadata": {
    "id": "r3MZJIKGQq5p",
    "scrolled": false
   },
   "outputs": [
    {
     "data": {
      "text/plain": [
       "Text(158.22222222222223, 0.5, 'True')"
      ]
     },
     "execution_count": 99,
     "metadata": {},
     "output_type": "execute_result"
    },
    {
     "data": {
      "image/png": "[encoded data removed]",
      "text/plain": [
       "<Figure size 1500x1000 with 2 Axes>"
      ]
     },
     "metadata": {},
     "output_type": "display_data"
    }
   ],
   "source": [
    "# Plt Confusion Matrix\n",
    "LABELS = ['walk','bike', 'bus', 'car', 'train']\n",
    "cm = confusion_matrix(Test_Y_N, Pred_Y_N)\n",
    "# bg_color = (0.88,0.85,0.95)\n",
    "# % matplotlib inline\n",
    "import matplotlib.pyplot as plt\n",
    "import seaborn as sn\n",
    "\n",
    "plt.figure(figsize=(15, 10))\n",
    "sn.heatmap(cm, xticklabels=LABELS, yticklabels=LABELS, annot=True, fmt=\"d\", cmap='jet', annot_kws={'size': 15})\n",
    "plt.title('Confusion Matrix', fontsize=20)\n",
    "plt.xticks(fontsize=16)\n",
    "plt.yticks(fontsize=16)\n",
    "plt.xlabel('Predicted', fontsize=16)\n",
    "plt.ylabel('True', fontsize=16)"
   ]
  },
  {
   "cell_type": "code",
   "execution_count": 42,
   "metadata": {
    "id": "tUimvpovQ7eW"
   },
   "outputs": [
    {
     "data": {
      "image/png": "[encoded data removed]",
      "text/plain": [
       "<Figure size 1000x700 with 1 Axes>"
      ]
     },
     "metadata": {},
     "output_type": "display_data"
    }
   ],
   "source": [
    "# Summarize History For Accuracy\n",
    "plt.figure(figsize=(10, 7))\n",
    "plt.xticks(fontsize=16)\n",
    "plt.yticks(fontsize=16)\n",
    "plt.plot(hist.history['accuracy'])\n",
    "plt.plot(hist.history['val_accuracy'])\n",
    "plt.title('Model Accuracy', fontsize=20)\n",
    "plt.ylabel('Accuracy', fontsize=16)\n",
    "plt.xlabel('Epoch', fontsize=16)\n",
    "plt.legend(['Train', 'Test'], loc='upper left', fontsize=16)\n",
    "plt.show()"
   ]
  },
  {
   "cell_type": "code",
   "execution_count": null,
   "metadata": {
    "id": "LNATHP5AQ7hH"
   },
   "outputs": [],
   "source": [
    "# Summarize History For Loss\n",
    "plt.figure(figsize=(10, 7))\n",
    "plt.xticks(fontsize=16)\n",
    "plt.yticks(fontsize=16)\n",
    "plt.plot(hist.history['loss'])\n",
    "plt.plot(hist.history['val_loss'])\n",
    "plt.title('Model Loss', fontsize=20)\n",
    "plt.ylabel('Loss', fontsize=16)\n",
    "plt.xlabel('Epoch', fontsize=16)\n",
    "plt.legend(['train', 'test'], loc='upper left', fontsize=16)\n",
    "plt.show()"
   ]
  },
  {
   "cell_type": "code",
   "execution_count": null,
   "metadata": {
    "id": "WbbgJMiVQ7pW"
   },
   "outputs": [],
   "source": []
  }
 ],
 "metadata": {
  "accelerator": "GPU",
  "colab": {
   "collapsed_sections": [],
   "machine_shape": "hm",
   "name": "005_CNN_Model.ipynb",
   "provenance": []
  },
  "kernelspec": {
   "display_name": "Python 3 (ipykernel)",
   "language": "python",
   "name": "python3"
  },
  "language_info": {
   "codemirror_mode": {
    "name": "ipython",
    "version": 3
   },
   "file_extension": ".py",
   "mimetype": "text/x-python",
   "name": "python",
   "nbconvert_exporter": "python",
   "pygments_lexer": "ipython3",
   "version": "3.9.13"
  }
 },
 "nbformat": 4,
 "nbformat_minor": 1
}
